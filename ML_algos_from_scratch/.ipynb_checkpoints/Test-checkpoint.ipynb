{
 "cells": [
  {
   "cell_type": "code",
   "execution_count": 1,
   "metadata": {},
   "outputs": [],
   "source": [
    "import numpy as np"
   ]
  },
  {
   "cell_type": "code",
   "execution_count": 3,
   "metadata": {},
   "outputs": [],
   "source": [
    "X = np.random.multivariate_normal(mean = [0, 2, 4],\n",
    "                                  cov = [[1,0,0],[0,1,0],[0,0,1]],\n",
    "                                  size = 1000)"
   ]
  },
  {
   "cell_type": "code",
   "execution_count": 4,
   "metadata": {},
   "outputs": [
    {
     "data": {
      "text/plain": [
       "array([[ 1.34209573,  2.00078566,  2.14207923],\n",
       "       [ 0.35886515,  1.17656357,  4.89466672],\n",
       "       [ 0.07511223,  2.82791101,  3.45436655],\n",
       "       ...,\n",
       "       [ 0.75040294,  0.9963062 ,  4.30795926],\n",
       "       [-0.88523404,  1.21518208,  4.26316108],\n",
       "       [ 0.33454464,  3.42218396,  3.06584946]])"
      ]
     },
     "execution_count": 4,
     "metadata": {},
     "output_type": "execute_result"
    }
   ],
   "source": [
    "X"
   ]
  },
  {
   "cell_type": "code",
   "execution_count": 5,
   "metadata": {},
   "outputs": [],
   "source": [
    "K = 5"
   ]
  },
  {
   "cell_type": "code",
   "execution_count": 17,
   "metadata": {},
   "outputs": [],
   "source": [
    "leng = X.shape[0]\n",
    "r = np.random.choice(range(leng), K, replace = False)"
   ]
  },
  {
   "cell_type": "code",
   "execution_count": 19,
   "metadata": {},
   "outputs": [],
   "source": [
    "centroids = X[r,:]"
   ]
  },
  {
   "cell_type": "code",
   "execution_count": 20,
   "metadata": {},
   "outputs": [],
   "source": [
    "pairwise_d = centroids[:,None] - X\n",
    "dists = np.sum(np.power(pairwise_d,2), axis = 2)"
   ]
  },
  {
   "cell_type": "code",
   "execution_count": 24,
   "metadata": {},
   "outputs": [
    {
     "data": {
      "text/plain": [
       "array([[-1.34254146,  0.9716763 ,  2.85797915],\n",
       "       [-0.38658135,  1.43059068,  5.64556727],\n",
       "       [ 1.00511152,  3.0641479 ,  3.02473226],\n",
       "       [-0.82669018,  2.27644056,  4.81189767],\n",
       "       [ 0.47312616,  1.12349384,  3.35749456]])"
      ]
     },
     "execution_count": 24,
     "metadata": {},
     "output_type": "execute_result"
    }
   ],
   "source": [
    "centroids"
   ]
  },
  {
   "cell_type": "code",
   "execution_count": 33,
   "metadata": {},
   "outputs": [
    {
     "data": {
      "text/plain": [
       "array([[ 1.34209573,  2.00078566,  2.14207923],\n",
       "       [ 0.35886515,  1.17656357,  4.89466672],\n",
       "       [ 0.07511223,  2.82791101,  3.45436655],\n",
       "       ...,\n",
       "       [ 0.75040294,  0.9963062 ,  4.30795926],\n",
       "       [-0.88523404,  1.21518208,  4.26316108],\n",
       "       [ 0.33454464,  3.42218396,  3.06584946]])"
      ]
     },
     "execution_count": 33,
     "metadata": {},
     "output_type": "execute_result"
    }
   ],
   "source": [
    "X"
   ]
  },
  {
   "cell_type": "code",
   "execution_count": 27,
   "metadata": {},
   "outputs": [],
   "source": [
    "clusters = np.argmin(dists, axis = 0)"
   ]
  },
  {
   "cell_type": "code",
   "execution_count": 22,
   "metadata": {},
   "outputs": [
    {
     "data": {
      "text/plain": [
       "(5, 1000)"
      ]
     },
     "execution_count": 22,
     "metadata": {},
     "output_type": "execute_result"
    }
   ],
   "source": [
    "dists.shape"
   ]
  },
  {
   "cell_type": "code",
   "execution_count": 39,
   "metadata": {},
   "outputs": [
    {
     "data": {
      "text/plain": [
       "array([[-1.22135605,  1.4448244 ,  3.068088  ],\n",
       "       [ 0.06884458,  1.39449792,  5.36543043],\n",
       "       [ 0.84426507,  2.93168219,  3.45581045],\n",
       "       [-0.59874749,  2.54799256,  4.54309298],\n",
       "       [ 0.55864929,  1.19961475,  3.63478331]])"
      ]
     },
     "execution_count": 39,
     "metadata": {},
     "output_type": "execute_result"
    }
   ],
   "source": [
    "centroids = []\n",
    "for i in sorted(np.unique(clusters)):\n",
    "    c_i = X[np.where(clusters==i)]\n",
    "    centroids.append(c_i.mean(axis = 0))\n",
    "np.array(centroids)"
   ]
  },
  {
   "cell_type": "code",
   "execution_count": 88,
   "metadata": {},
   "outputs": [],
   "source": [
    "from sklearn.datasets import make_blobs\n",
    "\n",
    "n_samples = 1500\n",
    "random_state = 170\n",
    "X, y = make_blobs(n_samples=n_samples, random_state=random_state)"
   ]
  },
  {
   "cell_type": "code",
   "execution_count": 80,
   "metadata": {},
   "outputs": [],
   "source": [
    "import numpy as np\n",
    "\n",
    "class KMeans:\n",
    "    def __init__(self, K):\n",
    "        self.K = K\n",
    "\n",
    "    def reset_K(self, K):\n",
    "        self.K = K\n",
    "\n",
    "    def initiate_centroids(self, X: np.array):\n",
    "        array_len = X.shape[0]\n",
    "        random = np.random.choice(range(array_len), self.K, replace = False)\n",
    "        return X[random,:]\n",
    "    \n",
    "    def compute_distance(self, centroids, X, d_type = 'e'):\n",
    "        #broadcast the difference\n",
    "        pairwise_d = centroids[:,None] - X\n",
    "        if d_type == 'e':\n",
    "            dists = np.sum(np.power(pairwise_d,2), axis = 2)\n",
    "        elif d_type == 'm':\n",
    "            dists = np.sum(np.abs(pairwise_d), axis = 2)\n",
    "        return dists\n",
    "\n",
    "    def get_clusters(self, dists):\n",
    "        arg_min = np.argmin(dists, axis = 0)\n",
    "        return arg_min\n",
    "    \n",
    "    def new_centroids(self, X, clusters):\n",
    "        centroids = []\n",
    "        for i in sorted(np.unique(clusters)):\n",
    "            c_i = X[np.where(clusters==i)]\n",
    "            centroids.append(c_i.mean(axis = 0))\n",
    "        return np.array(centroids)\n",
    "        \n",
    "    def convergence(self, new, old, tol = 1e-4):\n",
    "        diff = np.sum(np.power(new - old,2))\n",
    "        if diff < tol:\n",
    "            return True\n",
    "        else:\n",
    "            return False\n",
    "        \n",
    "    def pip(self, cent, X, dtype):\n",
    "        dists = self.compute_distance(cent, X, dtype)\n",
    "        clusters = self.get_clusters(dists)\n",
    "        new_cent = self.new_centroids(X, clusters)\n",
    "        return new_cent, clusters\n",
    "    \n",
    "    def kmeans(self, X: np.array):\n",
    "        cent = self.initiate_centroids(X)\n",
    "        new_cent , _  = self.pip(cent, X, dtype = 'e')\n",
    "        converged = self.convergence(new_cent, cent)\n",
    "        while not converged:\n",
    "            cent = new_cent\n",
    "            new_cent, clusters = self.pip(cent, X, dtype = 'e')\n",
    "            converged = self.convergence(new_cent, cent)\n",
    "        return new_cent, clusters\n",
    "\n",
    "    def kmedian(self, X: np.array):\n",
    "        cent = self.initiate_centroids(X)\n",
    "        new_cent , _  = self.pip(cent, X, dtype = 'd')\n",
    "        converged = self.convergence(new_cent, cent)\n",
    "        while not converged:\n",
    "            cent = new_cent\n",
    "            new_cent, clusters = self.pip(cent, X, dtype = 'd')\n",
    "            converged = self.convergence(new_cent, cent)\n",
    "        return new_cent, clusters"
   ]
  },
  {
   "cell_type": "code",
   "execution_count": 81,
   "metadata": {},
   "outputs": [],
   "source": [
    "km = KMeans(3)"
   ]
  },
  {
   "cell_type": "code",
   "execution_count": 82,
   "metadata": {},
   "outputs": [],
   "source": [
    "cent, clusters = km.kmeans(X)"
   ]
  },
  {
   "cell_type": "code",
   "execution_count": 83,
   "metadata": {},
   "outputs": [],
   "source": [
    "from sklearn.cluster import KMeans"
   ]
  },
  {
   "cell_type": "code",
   "execution_count": 84,
   "metadata": {},
   "outputs": [],
   "source": [
    "km2 = KMeans(n_clusters=3)"
   ]
  },
  {
   "cell_type": "code",
   "execution_count": 85,
   "metadata": {},
   "outputs": [
    {
     "data": {
      "text/plain": [
       "KMeans(n_clusters=3)"
      ]
     },
     "execution_count": 85,
     "metadata": {},
     "output_type": "execute_result"
    }
   ],
   "source": [
    "km2.fit(X)"
   ]
  },
  {
   "cell_type": "code",
   "execution_count": 86,
   "metadata": {},
   "outputs": [
    {
     "data": {
      "text/plain": [
       "array([[-4.55490993,  0.02920864],\n",
       "       [-8.94137566, -5.48137132],\n",
       "       [ 1.91176144,  0.40634045]])"
      ]
     },
     "execution_count": 86,
     "metadata": {},
     "output_type": "execute_result"
    }
   ],
   "source": [
    "km2.cluster_centers_"
   ]
  },
  {
   "cell_type": "code",
   "execution_count": 87,
   "metadata": {},
   "outputs": [
    {
     "data": {
      "text/plain": [
       "array([[-4.55490993,  0.02920864],\n",
       "       [ 1.91176144,  0.40634045],\n",
       "       [-8.94137566, -5.48137132]])"
      ]
     },
     "execution_count": 87,
     "metadata": {},
     "output_type": "execute_result"
    }
   ],
   "source": [
    "cent"
   ]
  },
  {
   "cell_type": "code",
   "execution_count": 57,
   "metadata": {},
   "outputs": [
    {
     "data": {
      "text/plain": [
       "array([2, 3, 1, 3, 4, 3, 2, 0, 4, 0, 0, 2, 1, 4, 4, 3, 1, 0, 4, 2, 3, 4,\n",
       "       3, 2, 2, 4, 1, 3, 2, 0, 0, 3, 3, 4, 2, 1, 1, 4, 4, 4, 3, 0, 0, 3,\n",
       "       2, 2, 3, 4, 1, 0, 2, 2, 3, 0, 1, 0, 1, 2, 3, 0, 4, 1, 3, 0, 1, 2,\n",
       "       1, 4, 3, 2, 4, 3, 1, 3, 4, 0, 2, 3, 1, 2, 1, 3, 0, 4, 1, 3, 3, 1,\n",
       "       3, 3, 0, 0, 0, 0, 0, 0, 3, 3, 3, 1, 0, 0, 4, 1, 3, 0, 3, 2, 1, 4,\n",
       "       4, 4, 2, 4, 4, 4, 2, 1, 1, 1, 1, 4, 1, 0, 1, 4, 4, 3, 1, 2, 3, 1,\n",
       "       2, 1, 2, 3, 3, 3, 2, 3, 3, 3, 1, 1, 4, 0, 0, 3, 0, 2, 1, 2, 1, 3,\n",
       "       4, 4, 3, 3, 3, 2, 2, 0, 2, 4, 2, 2, 4, 3, 3, 1, 2, 3, 4, 0, 0, 3,\n",
       "       1, 1, 0, 0, 4, 3, 3, 4, 0, 1, 3, 3, 2, 3, 0, 1, 0, 2, 2, 3, 4, 0,\n",
       "       2, 4, 1, 0, 0, 3, 3, 1, 4, 2, 0, 4, 3, 2, 2, 3, 1, 2, 0, 1, 1, 2,\n",
       "       3, 4, 1, 0, 0, 3, 3, 1, 0, 3, 1, 0, 4, 4, 1, 4, 4, 2, 2, 3, 3, 4,\n",
       "       4, 1, 1, 2, 2, 0, 2, 2, 3, 1, 0, 4, 2, 4, 2, 2, 1, 4, 0, 3, 3, 1,\n",
       "       2, 1, 3, 1, 3, 3, 2, 4, 3, 1, 2, 2, 3, 1, 2, 4, 1, 1, 0, 1, 4, 3,\n",
       "       4, 3, 1, 1, 1, 1, 3, 1, 3, 3, 1, 0, 4, 3, 2, 3, 1, 3, 1, 1, 1, 2,\n",
       "       1, 0, 3, 1, 4, 1, 1, 1, 1, 1, 2, 1, 3, 0, 2, 0, 0, 2, 3, 3, 1, 4,\n",
       "       3, 4, 2, 2, 0, 0, 4, 2, 3, 0, 3, 0, 4, 3, 2, 3, 4, 3, 2, 3, 4, 0,\n",
       "       1, 4, 2, 2, 4, 2, 3, 4, 2, 1, 3, 2, 1, 4, 0, 3, 1, 4, 3, 1, 4, 0,\n",
       "       0, 3, 1, 0, 0, 4, 4, 3, 4, 3, 2, 4, 4, 3, 3, 4, 1, 2, 3, 2, 3, 2,\n",
       "       4, 2, 2, 2, 3, 1, 3, 1, 3, 3, 1, 4, 4, 4, 4, 2, 1, 2, 2, 2, 1, 3,\n",
       "       4, 0, 1, 3, 2, 0, 3, 1, 4, 2, 1, 1, 0, 2, 0, 4, 3, 3, 4, 2, 4, 2,\n",
       "       1, 4, 2, 3, 0, 4, 3, 3, 2, 2, 1, 1, 2, 4, 2, 3, 1, 4, 0, 1, 3, 1,\n",
       "       2, 4, 3, 0, 1, 2, 1, 2, 4, 3, 4, 2, 2, 4, 0, 3, 1, 1, 0, 3, 1, 1,\n",
       "       0, 4, 1, 1, 1, 4, 4, 3, 4, 3, 0, 1, 0, 2, 3, 3, 1, 1, 0, 1, 0, 3,\n",
       "       3, 1, 1, 1, 3, 1, 3, 4, 1, 3, 1, 4, 3, 3, 1, 1, 3, 4, 4, 3, 2, 3,\n",
       "       3, 1, 0, 2, 0, 3, 3, 0, 3, 2, 0, 1, 2, 4, 3, 1, 3, 1, 3, 3, 4, 1,\n",
       "       3, 4, 2, 1, 2, 4, 0, 2, 1, 0, 2, 0, 3, 0, 3, 4, 2, 0, 3, 4, 4, 3,\n",
       "       2, 1, 2, 1, 2, 2, 3, 2, 2, 1, 1, 2, 3, 1, 4, 0, 1, 4, 2, 3, 3, 2,\n",
       "       4, 0, 4, 3, 0, 2, 4, 3, 4, 3, 1, 2, 3, 1, 1, 0, 0, 3, 1, 3, 0, 2,\n",
       "       3, 1, 0, 0, 0, 2, 0, 0, 0, 4, 1, 4, 2, 2, 0, 0, 0, 3, 0, 3, 2, 2,\n",
       "       2, 1, 1, 1, 2, 1, 3, 1, 4, 0, 0, 2, 3, 4, 3, 0, 0, 3, 0, 1, 3, 2,\n",
       "       3, 0, 3, 3, 1, 4, 4, 0, 0, 0, 1, 1, 4, 4, 4, 0, 3, 2, 2, 4, 4, 4,\n",
       "       3, 3, 3, 4, 1, 0, 1, 2, 4, 0, 4, 1, 2, 0, 4, 1, 0, 1, 2, 1, 0, 0,\n",
       "       2, 2, 0, 4, 2, 2, 2, 3, 4, 1, 4, 3, 2, 4, 3, 1, 1, 2, 1, 1, 3, 1,\n",
       "       0, 4, 0, 0, 3, 3, 3, 2, 0, 3, 1, 0, 0, 3, 2, 4, 1, 4, 3, 1, 1, 0,\n",
       "       4, 0, 3, 0, 1, 1, 1, 3, 3, 1, 3, 3, 3, 3, 2, 1, 1, 0, 3, 3, 1, 0,\n",
       "       0, 4, 4, 4, 4, 3, 0, 0, 0, 1, 3, 2, 0, 1, 1, 2, 2, 4, 0, 1, 3, 1,\n",
       "       4, 0, 1, 0, 1, 4, 0, 0, 4, 4, 0, 4, 2, 0, 1, 4, 4, 3, 2, 4, 3, 4,\n",
       "       1, 1, 4, 2, 4, 3, 0, 3, 1, 0, 2, 4, 4, 4, 3, 1, 4, 3, 3, 4, 4, 0,\n",
       "       1, 4, 1, 4, 3, 3, 0, 4, 0, 1, 4, 3, 1, 4, 3, 2, 3, 0, 3, 3, 1, 1,\n",
       "       3, 0, 3, 3, 1, 0, 0, 2, 4, 0, 4, 0, 0, 3, 0, 2, 4, 1, 2, 1, 4, 3,\n",
       "       0, 1, 1, 1, 3, 1, 4, 4, 1, 2, 0, 4, 0, 0, 4, 2, 2, 0, 3, 4, 3, 4,\n",
       "       0, 4, 3, 4, 4, 2, 2, 3, 4, 0, 0, 3, 4, 1, 1, 1, 1, 3, 1, 0, 2, 4,\n",
       "       4, 3, 3, 4, 1, 4, 3, 2, 3, 0, 1, 0, 1, 1, 2, 4, 2, 2, 1, 0, 4, 3,\n",
       "       1, 1, 3, 3, 1, 2, 0, 3, 4, 3, 1, 4, 3, 2, 1, 1, 0, 3, 3, 3, 1, 1,\n",
       "       3, 4, 0, 4, 1, 0, 3, 4, 2, 3, 4, 4, 3, 1, 4, 4, 1, 3, 2, 1, 4, 4,\n",
       "       1, 4, 2, 1, 0, 4, 0, 3, 3, 1])"
      ]
     },
     "execution_count": 57,
     "metadata": {},
     "output_type": "execute_result"
    }
   ],
   "source": [
    "clusters"
   ]
  },
  {
   "cell_type": "code",
   "execution_count": null,
   "metadata": {},
   "outputs": [],
   "source": []
  }
 ],
 "metadata": {
  "kernelspec": {
   "display_name": "Python 3",
   "language": "python",
   "name": "python3"
  },
  "language_info": {
   "codemirror_mode": {
    "name": "ipython",
    "version": 3
   },
   "file_extension": ".py",
   "mimetype": "text/x-python",
   "name": "python",
   "nbconvert_exporter": "python",
   "pygments_lexer": "ipython3",
   "version": "3.8.5"
  }
 },
 "nbformat": 4,
 "nbformat_minor": 4
}
