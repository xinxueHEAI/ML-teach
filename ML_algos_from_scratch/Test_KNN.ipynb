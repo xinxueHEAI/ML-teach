{
 "cells": [
  {
   "cell_type": "code",
   "execution_count": 1,
   "metadata": {},
   "outputs": [],
   "source": [
    "import numpy as np"
   ]
  },
  {
   "cell_type": "code",
   "execution_count": 4,
   "metadata": {},
   "outputs": [],
   "source": [
    "X = np.random.multivariate_normal(mean = [0, 2, 4],\n",
    "                                  cov = [[1,0,0],[0,1,0],[0,0,1]],\n",
    "                                  size = 1000)\n",
    "Y = np.random.choice([1,2],size = 1000, replace = True)"
   ]
  },
  {
   "cell_type": "code",
   "execution_count": 9,
   "metadata": {},
   "outputs": [],
   "source": [
    "dist = np.power(X[:,None] - X,2).sum(axis=2)"
   ]
  },
  {
   "cell_type": "code",
   "execution_count": 10,
   "metadata": {},
   "outputs": [
    {
     "data": {
      "text/plain": [
       "(1000, 1000)"
      ]
     },
     "execution_count": 10,
     "metadata": {},
     "output_type": "execute_result"
    }
   ],
   "source": [
    "dist.shape"
   ]
  },
  {
   "cell_type": "code",
   "execution_count": 11,
   "metadata": {},
   "outputs": [
    {
     "data": {
      "text/plain": [
       "array([[0.        , 2.65071298, 0.63184638, ..., 3.18795959, 3.55844177,\n",
       "        1.35824012],\n",
       "       [2.65071298, 0.        , 0.91983757, ..., 0.18141649, 5.01647873,\n",
       "        2.23512708],\n",
       "       [0.63184638, 0.91983757, 0.        , ..., 1.55270439, 3.91882817,\n",
       "        0.53203485],\n",
       "       ...,\n",
       "       [3.18795959, 0.18141649, 1.55270439, ..., 0.        , 4.70117679,\n",
       "        3.44249138],\n",
       "       [3.55844177, 5.01647873, 3.91882817, ..., 4.70117679, 0.        ,\n",
       "        5.11091292],\n",
       "       [1.35824012, 2.23512708, 0.53203485, ..., 3.44249138, 5.11091292,\n",
       "        0.        ]])"
      ]
     },
     "execution_count": 11,
     "metadata": {},
     "output_type": "execute_result"
    }
   ],
   "source": [
    "dist"
   ]
  },
  {
   "cell_type": "code",
   "execution_count": 30,
   "metadata": {},
   "outputs": [
    {
     "data": {
      "text/plain": [
       "array([[0.        , 2.65071298, 0.63184638, ..., 3.18795959, 3.55844177,\n",
       "        1.35824012],\n",
       "       [2.65071298, 0.        , 0.91983757, ..., 0.18141649, 5.01647873,\n",
       "        2.23512708],\n",
       "       [0.63184638, 0.91983757, 0.        , ..., 1.55270439, 3.91882817,\n",
       "        0.53203485],\n",
       "       ...,\n",
       "       [3.18795959, 0.18141649, 1.55270439, ..., 0.        , 4.70117679,\n",
       "        3.44249138],\n",
       "       [3.55844177, 5.01647873, 3.91882817, ..., 4.70117679, 0.        ,\n",
       "        5.11091292],\n",
       "       [1.35824012, 2.23512708, 0.53203485, ..., 3.44249138, 5.11091292,\n",
       "        0.        ]])"
      ]
     },
     "execution_count": 30,
     "metadata": {},
     "output_type": "execute_result"
    }
   ],
   "source": [
    "dist"
   ]
  },
  {
   "cell_type": "code",
   "execution_count": 42,
   "metadata": {},
   "outputs": [],
   "source": [
    "trya = Y[np.argsort(dist,axis =1 )]"
   ]
  },
  {
   "cell_type": "code",
   "execution_count": 60,
   "metadata": {},
   "outputs": [],
   "source": [
    "aa = trya[:,:5]"
   ]
  },
  {
   "cell_type": "code",
   "execution_count": 74,
   "metadata": {},
   "outputs": [
    {
     "data": {
      "text/plain": [
       "(1000, 5)"
      ]
     },
     "execution_count": 74,
     "metadata": {},
     "output_type": "execute_result"
    }
   ],
   "source": [
    "aa.shape"
   ]
  },
  {
   "cell_type": "code",
   "execution_count": null,
   "metadata": {},
   "outputs": [],
   "source": []
  },
  {
   "cell_type": "code",
   "execution_count": 72,
   "metadata": {},
   "outputs": [
    {
     "data": {
      "text/plain": [
       "(array([[1, 1, 1, 2, 2],\n",
       "        [2, 2, 2, 1, 2],\n",
       "        [1, 1, 2, 1, 2],\n",
       "        ...,\n",
       "        [2, 2, 1, 1, 1],\n",
       "        [2, 2, 1, 1, 2],\n",
       "        [1, 2, 2, 1, 2]]),\n",
       " array([1, 1, 1, 1, 1]))"
      ]
     },
     "execution_count": 72,
     "metadata": {},
     "output_type": "execute_result"
    }
   ],
   "source": [
    "np.unique(aa, axis = 1, return_counts=True)"
   ]
  },
  {
   "cell_type": "code",
   "execution_count": null,
   "metadata": {},
   "outputs": [],
   "source": []
  }
 ],
 "metadata": {
  "kernelspec": {
   "display_name": "Python 3",
   "language": "python",
   "name": "python3"
  },
  "language_info": {
   "codemirror_mode": {
    "name": "ipython",
    "version": 3
   },
   "file_extension": ".py",
   "mimetype": "text/x-python",
   "name": "python",
   "nbconvert_exporter": "python",
   "pygments_lexer": "ipython3",
   "version": "3.8.5"
  }
 },
 "nbformat": 4,
 "nbformat_minor": 4
}
